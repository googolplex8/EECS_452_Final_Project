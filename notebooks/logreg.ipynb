{
 "cells": [
  {
   "cell_type": "code",
   "execution_count": 1,
   "id": "behind-copyright",
   "metadata": {},
   "outputs": [],
   "source": [
    "import numpy as np\n",
    "import pandas as pd\n",
    "from sklearn.model_selection import train_test_split\n",
    "from sklearn.linear_model import LogisticRegression"
   ]
  },
  {
   "cell_type": "code",
   "execution_count": 8,
   "id": "charitable-accounting",
   "metadata": {},
   "outputs": [],
   "source": [
    "dataset = 'keypoints.csv'"
   ]
  },
  {
   "cell_type": "code",
   "execution_count": 9,
   "id": "norwegian-cement",
   "metadata": {},
   "outputs": [],
   "source": [
    "X_dataset = np.loadtxt(dataset, delimiter=',', dtype='float32', usecols=list(range(1, (21 * 2) + 1)))"
   ]
  },
  {
   "cell_type": "code",
   "execution_count": 10,
   "id": "informal-index",
   "metadata": {},
   "outputs": [],
   "source": [
    "y_dataset = np.loadtxt(dataset, delimiter=',', dtype='int32', usecols=(0))"
   ]
  },
  {
   "cell_type": "code",
   "execution_count": 11,
   "id": "organizational-thompson",
   "metadata": {},
   "outputs": [],
   "source": [
    "X_train, X_test, y_train, y_test = train_test_split(X_dataset, y_dataset, train_size=0.75)"
   ]
  },
  {
   "cell_type": "code",
   "execution_count": 12,
   "id": "featured-cancer",
   "metadata": {},
   "outputs": [],
   "source": [
    "clf = LogisticRegression(multi_class='multinomial', solver='lbfgs', max_iter=1000).fit(X_train, y_train)"
   ]
  },
  {
   "cell_type": "code",
   "execution_count": 13,
   "id": "copyrighted-ceiling",
   "metadata": {},
   "outputs": [
    {
     "data": {
      "text/plain": [
       "array([[9.26105897e-03, 7.11168692e-02, 5.82641452e-03, 9.13795654e-01,\n",
       "        3.01599859e-09],\n",
       "       [1.41630908e-02, 2.40996111e-01, 7.44720030e-01, 2.04277187e-05,\n",
       "        1.00340871e-04],\n",
       "       [2.21555976e-02, 2.59194730e-02, 7.69172945e-03, 5.30099951e-11,\n",
       "        9.44233200e-01],\n",
       "       ...,\n",
       "       [2.21515310e-03, 4.45994602e-03, 3.21056427e-03, 9.90114336e-01,\n",
       "        8.34048799e-10],\n",
       "       [7.68312606e-01, 1.04775987e-01, 1.26666167e-01, 4.54632951e-05,\n",
       "        1.99775977e-04],\n",
       "       [3.04882018e-03, 7.99891491e-03, 1.29332773e-03, 6.62084425e-12,\n",
       "        9.87658937e-01]])"
      ]
     },
     "execution_count": 13,
     "metadata": {},
     "output_type": "execute_result"
    }
   ],
   "source": [
    "clf.predict_proba(X_test)"
   ]
  },
  {
   "cell_type": "code",
   "execution_count": 14,
   "id": "healthy-wheel",
   "metadata": {},
   "outputs": [
    {
     "data": {
      "text/plain": [
       "0.9075708313980493"
      ]
     },
     "execution_count": 14,
     "metadata": {},
     "output_type": "execute_result"
    }
   ],
   "source": [
    "clf.score(X_test, y_test)"
   ]
  },
  {
   "cell_type": "code",
   "execution_count": 15,
   "id": "academic-missouri",
   "metadata": {},
   "outputs": [],
   "source": [
    "import pickle"
   ]
  },
  {
   "cell_type": "code",
   "execution_count": 16,
   "id": "athletic-proceeding",
   "metadata": {},
   "outputs": [],
   "source": [
    "pickle.dump(clf,open('logreg_extended.pkl','wb'))"
   ]
  },
  {
   "cell_type": "code",
   "execution_count": null,
   "id": "70273a0e",
   "metadata": {},
   "outputs": [],
   "source": []
  }
 ],
 "metadata": {
  "kernelspec": {
   "display_name": "Python 3 (ipykernel)",
   "language": "python",
   "name": "python3"
  },
  "language_info": {
   "codemirror_mode": {
    "name": "ipython",
    "version": 3
   },
   "file_extension": ".py",
   "mimetype": "text/x-python",
   "name": "python",
   "nbconvert_exporter": "python",
   "pygments_lexer": "ipython3",
   "version": "3.8.12"
  }
 },
 "nbformat": 4,
 "nbformat_minor": 5
}
