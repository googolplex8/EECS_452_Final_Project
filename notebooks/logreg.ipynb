{
 "cells": [
  {
   "cell_type": "code",
   "execution_count": 1,
   "id": "behind-copyright",
   "metadata": {},
   "outputs": [],
   "source": [
    "import numpy as np\n",
    "import pandas as pd\n",
    "from sklearn.model_selection import train_test_split\n",
    "from sklearn.linear_model import LogisticRegression"
   ]
  },
  {
   "cell_type": "code",
   "execution_count": 6,
   "id": "charitable-accounting",
   "metadata": {},
   "outputs": [],
   "source": [
    "dataset = 'keypoints.csv'"
   ]
  },
  {
   "cell_type": "code",
   "execution_count": 7,
   "id": "norwegian-cement",
   "metadata": {},
   "outputs": [],
   "source": [
    "X_dataset = np.loadtxt(dataset, delimiter=',', dtype='float32', usecols=list(range(1, (21 * 2) + 1)))"
   ]
  },
  {
   "cell_type": "code",
   "execution_count": 8,
   "id": "informal-index",
   "metadata": {},
   "outputs": [],
   "source": [
    "y_dataset = np.loadtxt(dataset, delimiter=',', dtype='int32', usecols=(0))"
   ]
  },
  {
   "cell_type": "code",
   "execution_count": 9,
   "id": "organizational-thompson",
   "metadata": {},
   "outputs": [],
   "source": [
    "X_train, X_test, y_train, y_test = train_test_split(X_dataset, y_dataset, train_size=0.75)"
   ]
  },
  {
   "cell_type": "code",
   "execution_count": 10,
   "id": "featured-cancer",
   "metadata": {},
   "outputs": [],
   "source": [
    "clf = LogisticRegression(multi_class='multinomial', solver='lbfgs', max_iter=1000).fit(X_train, y_train)"
   ]
  },
  {
   "cell_type": "code",
   "execution_count": 11,
   "id": "copyrighted-ceiling",
   "metadata": {},
   "outputs": [
    {
     "data": {
      "text/plain": [
       "array([[2.65005185e-03, 7.78473029e-03, 2.86687116e-03, ...,\n",
       "        9.86678685e-01, 1.25142536e-05, 7.14720236e-06],\n",
       "       [8.51358931e-04, 5.09701121e-03, 7.94401536e-03, ...,\n",
       "        5.04364695e-06, 9.85853594e-01, 7.73912593e-08],\n",
       "       [2.47746808e-02, 1.59654988e-02, 1.46812939e-01, ...,\n",
       "        2.45041136e-04, 2.19039623e-06, 8.12198524e-01],\n",
       "       ...,\n",
       "       [2.34094347e-02, 2.61304708e-03, 1.10336022e-02, ...,\n",
       "        9.62390361e-01, 1.52997725e-05, 5.38254453e-04],\n",
       "       [6.50694398e-02, 4.13382910e-03, 9.68098561e-04, ...,\n",
       "        8.95850864e-07, 1.28033993e-08, 9.29728804e-01],\n",
       "       [2.83671226e-02, 7.10987455e-03, 4.87378730e-03, ...,\n",
       "        1.14268737e-05, 1.32238142e-07, 9.59549251e-01]])"
      ]
     },
     "execution_count": 11,
     "metadata": {},
     "output_type": "execute_result"
    }
   ],
   "source": [
    "clf.predict_proba(X_test)"
   ]
  },
  {
   "cell_type": "code",
   "execution_count": 12,
   "id": "healthy-wheel",
   "metadata": {},
   "outputs": [
    {
     "data": {
      "text/plain": [
       "0.9278180619644034"
      ]
     },
     "execution_count": 12,
     "metadata": {},
     "output_type": "execute_result"
    }
   ],
   "source": [
    "clf.score(X_test, y_test)"
   ]
  },
  {
   "cell_type": "code",
   "execution_count": 13,
   "id": "academic-missouri",
   "metadata": {},
   "outputs": [],
   "source": [
    "import pickle"
   ]
  },
  {
   "cell_type": "code",
   "execution_count": 14,
   "id": "athletic-proceeding",
   "metadata": {},
   "outputs": [],
   "source": [
    "pickle.dump(clf,open('logreg_extended.pkl','wb'))"
   ]
  },
  {
   "cell_type": "code",
   "execution_count": null,
   "id": "70273a0e",
   "metadata": {},
   "outputs": [],
   "source": []
  }
 ],
 "metadata": {
  "kernelspec": {
   "display_name": "Python 3 (ipykernel)",
   "language": "python",
   "name": "python3"
  },
  "language_info": {
   "codemirror_mode": {
    "name": "ipython",
    "version": 3
   },
   "file_extension": ".py",
   "mimetype": "text/x-python",
   "name": "python",
   "nbconvert_exporter": "python",
   "pygments_lexer": "ipython3",
   "version": "3.8.12"
  }
 },
 "nbformat": 4,
 "nbformat_minor": 5
}
